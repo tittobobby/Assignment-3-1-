{
 "cells": [
  {
   "cell_type": "code",
   "execution_count": 14,
   "id": "0939ebde",
   "metadata": {},
   "outputs": [
    {
     "name": "stdout",
     "output_type": "stream",
     "text": [
      "Enter the number of elements of the list : 5\n",
      "Enter the elements of the list : \n",
      "8\n",
      "2\n",
      "3\n",
      "0\n",
      "7\n",
      "The Original List : [8, 2, 3, 0, 7]\n",
      "Sum all the numbers in a list :  20\n"
     ]
    }
   ],
   "source": [
    "#Write a Python function to sum all the numbers in a list.\n",
    "#Sample List : (8, 2, 3, 0, 7)\n",
    "#Expected Output : 20\n",
    "\n",
    "n = int(input(\"Enter the number of elements of the list : \"))\n",
    "lst = []\n",
    "print(\"Enter the elements of the list : \")\n",
    "for i in range(0, n):\n",
    "    elements = int(input())\n",
    "    lst.append(elements)\n",
    "print(f\"The Original List : {lst}\")\n",
    "def sum_of_(num):\n",
    "    sum = 0\n",
    "    for i in num:\n",
    "        sum = sum + i\n",
    "    return sum\n",
    "\n",
    "print(f\"Sum all the numbers in a list :  {sum_of_(lst)}\")\n"
   ]
  },
  {
   "cell_type": "code",
   "execution_count": null,
   "id": "958630c2",
   "metadata": {},
   "outputs": [],
   "source": []
  }
 ],
 "metadata": {
  "kernelspec": {
   "display_name": "Python 3 (ipykernel)",
   "language": "python",
   "name": "python3"
  },
  "language_info": {
   "codemirror_mode": {
    "name": "ipython",
    "version": 3
   },
   "file_extension": ".py",
   "mimetype": "text/x-python",
   "name": "python",
   "nbconvert_exporter": "python",
   "pygments_lexer": "ipython3",
   "version": "3.9.12"
  }
 },
 "nbformat": 4,
 "nbformat_minor": 5
}
